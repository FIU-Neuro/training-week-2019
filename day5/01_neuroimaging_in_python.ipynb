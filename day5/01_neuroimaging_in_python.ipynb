{
 "cells": [
  {
   "cell_type": "markdown",
   "metadata": {},
   "source": [
    "# Working with neuroimaging data in Python\n",
    "\n",
    "We've already learned about general Python tools, but there is also a growing ecosystem of Python-based tools for working with neuroimaging data.\n",
    "\n",
    "In this training, we will focus on `pybids`, `nibabel`, and `nilearn`."
   ]
  },
  {
   "cell_type": "code",
   "execution_count": 1,
   "metadata": {},
   "outputs": [],
   "source": [
    "%matplotlib inline\n",
    "dataset_folder = '/scratch/cis-training/ds002078'"
   ]
  },
  {
   "cell_type": "markdown",
   "metadata": {},
   "source": [
    "## PyBIDS\n",
    "PyBIDS is a package for **working with BIDS datasets**.\n",
    "\n",
    "With PyBIDS, you can:\n",
    "1. Validate datasets to make sure they're BIDS compliant.\n",
    "2. Search datasets for specific files.\n",
    "3. Read in metadata for files within datasets.\n",
    "4. Generate citable reports summarizing datasets."
   ]
  },
  {
   "cell_type": "code",
   "execution_count": 1,
   "metadata": {},
   "outputs": [],
   "source": [
    "from bids import BIDSLayout"
   ]
  },
  {
   "cell_type": "code",
   "execution_count": null,
   "metadata": {},
   "outputs": [],
   "source": [
    "dset = BIDSLayout(dataset_folder)"
   ]
  },
  {
   "cell_type": "markdown",
   "metadata": {},
   "source": [
    "## NiBabel\n",
    "NiBabel allows you to **read and write neuroimaging files**."
   ]
  },
  {
   "cell_type": "code",
   "execution_count": 2,
   "metadata": {},
   "outputs": [],
   "source": [
    "import nibabel as nib"
   ]
  },
  {
   "cell_type": "markdown",
   "metadata": {},
   "source": [
    "## Nilearn\n",
    "Nilearn is primarily for doing machine learning on fMRI data, but it also provides a wide range of functionality, including:\n",
    "- Applying masks to data\n",
    "- Visualizing fMRI data\n",
    "- Simple denoising and analysis\n",
    "- Performing simple math on images"
   ]
  },
  {
   "cell_type": "code",
   "execution_count": 5,
   "metadata": {},
   "outputs": [],
   "source": [
    "import nilearn as nl\n",
    "from nilearn import masking"
   ]
  },
  {
   "cell_type": "code",
   "execution_count": null,
   "metadata": {},
   "outputs": [],
   "source": []
  }
 ],
 "metadata": {
  "kernelspec": {
   "display_name": "Python [conda env:python3]",
   "language": "python",
   "name": "conda-env-python3-py"
  },
  "language_info": {
   "codemirror_mode": {
    "name": "ipython",
    "version": 3
   },
   "file_extension": ".py",
   "mimetype": "text/x-python",
   "name": "python",
   "nbconvert_exporter": "python",
   "pygments_lexer": "ipython3",
   "version": "3.6.4"
  }
 },
 "nbformat": 4,
 "nbformat_minor": 2
}
