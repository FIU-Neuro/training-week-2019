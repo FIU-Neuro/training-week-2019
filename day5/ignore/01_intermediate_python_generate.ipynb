{
 "cells": [
  {
   "cell_type": "markdown",
   "metadata": {},
   "source": [
    "# Generate files for 01_intermediate_python training"
   ]
  },
  {
   "cell_type": "code",
   "execution_count": 1,
   "metadata": {},
   "outputs": [],
   "source": [
    "import numpy as np\n",
    "import pandas as pd"
   ]
  },
  {
   "cell_type": "code",
   "execution_count": 2,
   "metadata": {},
   "outputs": [],
   "source": [
    "n_subs = 20\n",
    "ages = np.random.uniform(low=18, high=65, size=n_subs)\n",
    "heights = np.random.normal(loc=65, scale=3.5, size=n_subs)\n",
    "weights = np.random.normal(loc=168.4, scale=20, size=n_subs)\n",
    "data = np.vstack((ages, heights, weights)).T\n",
    "\n",
    "cols = ['age', 'height', 'weight']\n",
    "index = ['sub-{0:02g}'.format(i+1) for i in range(n_subs)]\n",
    "df = pd.DataFrame(data=data, columns=cols, index=index)\n",
    "df.to_csv('../../data/spreadsheet.tsv', sep='\\t', index_label='subject')"
   ]
  }
 ],
 "metadata": {
  "kernelspec": {
   "display_name": "Python [conda env:python3]",
   "language": "python",
   "name": "conda-env-python3-py"
  },
  "language_info": {
   "codemirror_mode": {
    "name": "ipython",
    "version": 3
   },
   "file_extension": ".py",
   "mimetype": "text/x-python",
   "name": "python",
   "nbconvert_exporter": "python",
   "pygments_lexer": "ipython3",
   "version": "3.6.4"
  }
 },
 "nbformat": 4,
 "nbformat_minor": 2
}
