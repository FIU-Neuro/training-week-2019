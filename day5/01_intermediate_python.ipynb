{
 "cells": [
  {
   "cell_type": "markdown",
   "metadata": {},
   "source": [
    "Using Numpy, Scipy, Pandas, and other common libraries."
   ]
  },
  {
   "cell_type": "markdown",
   "metadata": {},
   "source": [
    "# NumPy\n",
    "[numpy](https://numpy.org) (**Num**erical **Py**thon) is a library for working with arrays and doing math.\n",
    "For more information on what it can do, check out its [reference manual](https://docs.scipy.org/doc/numpy/reference/index.html)."
   ]
  },
  {
   "cell_type": "code",
   "execution_count": 1,
   "metadata": {},
   "outputs": [],
   "source": [
    "import numpy as np"
   ]
  },
  {
   "cell_type": "code",
   "execution_count": 4,
   "metadata": {},
   "outputs": [
    {
     "name": "stdout",
     "output_type": "stream",
     "text": [
      "[[1 2 3]\n",
      " [4 5 6]]\n"
     ]
    }
   ],
   "source": [
    "arr = np.array([[1, 2, 3], [4, 5, 6]])\n",
    "print(arr)"
   ]
  },
  {
   "cell_type": "markdown",
   "metadata": {},
   "source": [
    "# SciPy\n",
    "[scipy](https://scipy.org/scipylib/index.html) (**Sci**entific **Py**thon) is a library for scientific computing. For more information on what it can do, check out its [reference manual](https://docs.scipy.org/doc/scipy/reference/)."
   ]
  },
  {
   "cell_type": "code",
   "execution_count": 36,
   "metadata": {},
   "outputs": [],
   "source": [
    "from scipy import stats"
   ]
  },
  {
   "cell_type": "code",
   "execution_count": 37,
   "metadata": {},
   "outputs": [
    {
     "name": "stdout",
     "output_type": "stream",
     "text": [
      "[3 9 8 8 2 5 9 8 8 2]\n",
      "[-1.16382875  1.01835015  0.65465367  0.65465367 -1.52752523 -0.43643578\n",
      "  1.01835015  0.65465367  0.65465367 -1.52752523]\n"
     ]
    }
   ],
   "source": [
    "arr = np.random.randint(0, 10, size=10)\n",
    "print(arr)\n",
    "\n",
    "arr_z = stats.zscore(arr)\n",
    "print(arr_z)"
   ]
  },
  {
   "cell_type": "markdown",
   "metadata": {},
   "source": [
    "# Pandas\n",
    "[pandas](https://pandas.pydata.org/pandas-docs/stable/index.html) is how we work with tabular data (e.g., csv files)."
   ]
  },
  {
   "cell_type": "code",
   "execution_count": 17,
   "metadata": {},
   "outputs": [],
   "source": [
    "import pandas as pd"
   ]
  },
  {
   "cell_type": "markdown",
   "metadata": {},
   "source": [
    "You can load spreadsheets and operate on them."
   ]
  },
  {
   "cell_type": "code",
   "execution_count": 27,
   "metadata": {},
   "outputs": [
    {
     "data": {
      "text/html": [
       "<div>\n",
       "<style scoped>\n",
       "    .dataframe tbody tr th:only-of-type {\n",
       "        vertical-align: middle;\n",
       "    }\n",
       "\n",
       "    .dataframe tbody tr th {\n",
       "        vertical-align: top;\n",
       "    }\n",
       "\n",
       "    .dataframe thead th {\n",
       "        text-align: right;\n",
       "    }\n",
       "</style>\n",
       "<table border=\"1\" class=\"dataframe\">\n",
       "  <thead>\n",
       "    <tr style=\"text-align: right;\">\n",
       "      <th></th>\n",
       "      <th>age</th>\n",
       "      <th>height</th>\n",
       "      <th>weight</th>\n",
       "    </tr>\n",
       "    <tr>\n",
       "      <th>subject</th>\n",
       "      <th></th>\n",
       "      <th></th>\n",
       "      <th></th>\n",
       "    </tr>\n",
       "  </thead>\n",
       "  <tbody>\n",
       "    <tr>\n",
       "      <th>sub-01</th>\n",
       "      <td>26.468044</td>\n",
       "      <td>70.899705</td>\n",
       "      <td>185.094866</td>\n",
       "    </tr>\n",
       "    <tr>\n",
       "      <th>sub-02</th>\n",
       "      <td>34.814886</td>\n",
       "      <td>69.466607</td>\n",
       "      <td>156.702993</td>\n",
       "    </tr>\n",
       "    <tr>\n",
       "      <th>sub-03</th>\n",
       "      <td>22.101511</td>\n",
       "      <td>67.156297</td>\n",
       "      <td>169.517613</td>\n",
       "    </tr>\n",
       "    <tr>\n",
       "      <th>sub-04</th>\n",
       "      <td>58.034693</td>\n",
       "      <td>65.289444</td>\n",
       "      <td>175.863245</td>\n",
       "    </tr>\n",
       "    <tr>\n",
       "      <th>sub-05</th>\n",
       "      <td>51.040495</td>\n",
       "      <td>65.591512</td>\n",
       "      <td>186.114354</td>\n",
       "    </tr>\n",
       "  </tbody>\n",
       "</table>\n",
       "</div>"
      ],
      "text/plain": [
       "               age     height      weight\n",
       "subject                                  \n",
       "sub-01   26.468044  70.899705  185.094866\n",
       "sub-02   34.814886  69.466607  156.702993\n",
       "sub-03   22.101511  67.156297  169.517613\n",
       "sub-04   58.034693  65.289444  175.863245\n",
       "sub-05   51.040495  65.591512  186.114354"
      ]
     },
     "execution_count": 27,
     "metadata": {},
     "output_type": "execute_result"
    }
   ],
   "source": [
    "df = pd.read_csv('../data/spreadsheet.tsv', sep='\\t', index_col='subject')\n",
    "df.head()"
   ]
  },
  {
   "cell_type": "markdown",
   "metadata": {},
   "source": [
    "You can easily search across or manipulate them."
   ]
  },
  {
   "cell_type": "code",
   "execution_count": 31,
   "metadata": {},
   "outputs": [
    {
     "data": {
      "text/html": [
       "<div>\n",
       "<style scoped>\n",
       "    .dataframe tbody tr th:only-of-type {\n",
       "        vertical-align: middle;\n",
       "    }\n",
       "\n",
       "    .dataframe tbody tr th {\n",
       "        vertical-align: top;\n",
       "    }\n",
       "\n",
       "    .dataframe thead th {\n",
       "        text-align: right;\n",
       "    }\n",
       "</style>\n",
       "<table border=\"1\" class=\"dataframe\">\n",
       "  <thead>\n",
       "    <tr style=\"text-align: right;\">\n",
       "      <th></th>\n",
       "      <th>age</th>\n",
       "      <th>height</th>\n",
       "      <th>weight</th>\n",
       "    </tr>\n",
       "    <tr>\n",
       "      <th>subject</th>\n",
       "      <th></th>\n",
       "      <th></th>\n",
       "      <th></th>\n",
       "    </tr>\n",
       "  </thead>\n",
       "  <tbody>\n",
       "    <tr>\n",
       "      <th>sub-04</th>\n",
       "      <td>58.034693</td>\n",
       "      <td>65.289444</td>\n",
       "      <td>175.863245</td>\n",
       "    </tr>\n",
       "    <tr>\n",
       "      <th>sub-05</th>\n",
       "      <td>51.040495</td>\n",
       "      <td>65.591512</td>\n",
       "      <td>186.114354</td>\n",
       "    </tr>\n",
       "    <tr>\n",
       "      <th>sub-12</th>\n",
       "      <td>50.980788</td>\n",
       "      <td>69.104519</td>\n",
       "      <td>188.953467</td>\n",
       "    </tr>\n",
       "    <tr>\n",
       "      <th>sub-14</th>\n",
       "      <td>53.805803</td>\n",
       "      <td>60.265333</td>\n",
       "      <td>169.292895</td>\n",
       "    </tr>\n",
       "    <tr>\n",
       "      <th>sub-17</th>\n",
       "      <td>64.132667</td>\n",
       "      <td>59.882165</td>\n",
       "      <td>183.114347</td>\n",
       "    </tr>\n",
       "  </tbody>\n",
       "</table>\n",
       "</div>"
      ],
      "text/plain": [
       "               age     height      weight\n",
       "subject                                  \n",
       "sub-04   58.034693  65.289444  175.863245\n",
       "sub-05   51.040495  65.591512  186.114354\n",
       "sub-12   50.980788  69.104519  188.953467\n",
       "sub-14   53.805803  60.265333  169.292895\n",
       "sub-17   64.132667  59.882165  183.114347"
      ]
     },
     "execution_count": 31,
     "metadata": {},
     "output_type": "execute_result"
    }
   ],
   "source": [
    "df_distinguished = df[df['age'] > 50]\n",
    "df_distinguished.head()"
   ]
  },
  {
   "cell_type": "code",
   "execution_count": 34,
   "metadata": {},
   "outputs": [
    {
     "data": {
      "text/html": [
       "<div>\n",
       "<style scoped>\n",
       "    .dataframe tbody tr th:only-of-type {\n",
       "        vertical-align: middle;\n",
       "    }\n",
       "\n",
       "    .dataframe tbody tr th {\n",
       "        vertical-align: top;\n",
       "    }\n",
       "\n",
       "    .dataframe thead th {\n",
       "        text-align: right;\n",
       "    }\n",
       "</style>\n",
       "<table border=\"1\" class=\"dataframe\">\n",
       "  <thead>\n",
       "    <tr style=\"text-align: right;\">\n",
       "      <th></th>\n",
       "      <th>age</th>\n",
       "      <th>height</th>\n",
       "      <th>weight</th>\n",
       "    </tr>\n",
       "    <tr>\n",
       "      <th>subject</th>\n",
       "      <th></th>\n",
       "      <th></th>\n",
       "      <th></th>\n",
       "    </tr>\n",
       "  </thead>\n",
       "  <tbody>\n",
       "    <tr>\n",
       "      <th>sub-06</th>\n",
       "      <td>21.024790</td>\n",
       "      <td>67.406173</td>\n",
       "      <td>197.256212</td>\n",
       "    </tr>\n",
       "    <tr>\n",
       "      <th>sub-03</th>\n",
       "      <td>22.101511</td>\n",
       "      <td>67.156297</td>\n",
       "      <td>169.517613</td>\n",
       "    </tr>\n",
       "    <tr>\n",
       "      <th>sub-08</th>\n",
       "      <td>24.928060</td>\n",
       "      <td>68.526091</td>\n",
       "      <td>137.744372</td>\n",
       "    </tr>\n",
       "    <tr>\n",
       "      <th>sub-01</th>\n",
       "      <td>26.468044</td>\n",
       "      <td>70.899705</td>\n",
       "      <td>185.094866</td>\n",
       "    </tr>\n",
       "    <tr>\n",
       "      <th>sub-18</th>\n",
       "      <td>30.149441</td>\n",
       "      <td>63.471716</td>\n",
       "      <td>136.122029</td>\n",
       "    </tr>\n",
       "  </tbody>\n",
       "</table>\n",
       "</div>"
      ],
      "text/plain": [
       "               age     height      weight\n",
       "subject                                  \n",
       "sub-06   21.024790  67.406173  197.256212\n",
       "sub-03   22.101511  67.156297  169.517613\n",
       "sub-08   24.928060  68.526091  137.744372\n",
       "sub-01   26.468044  70.899705  185.094866\n",
       "sub-18   30.149441  63.471716  136.122029"
      ]
     },
     "execution_count": 34,
     "metadata": {},
     "output_type": "execute_result"
    }
   ],
   "source": [
    "df_agesorted = df.sort_values(by='age')\n",
    "df_agesorted.head()"
   ]
  },
  {
   "cell_type": "markdown",
   "metadata": {},
   "source": [
    "Plus there are a lot of methods for summarizing the data."
   ]
  },
  {
   "cell_type": "code",
   "execution_count": 28,
   "metadata": {},
   "outputs": [
    {
     "data": {
      "text/plain": [
       "age        41.478407\n",
       "height     64.748765\n",
       "weight    167.989704\n",
       "dtype: float64"
      ]
     },
     "execution_count": 28,
     "metadata": {},
     "output_type": "execute_result"
    }
   ],
   "source": [
    "df.mean(axis=0)"
   ]
  },
  {
   "cell_type": "code",
   "execution_count": 35,
   "metadata": {},
   "outputs": [
    {
     "data": {
      "text/plain": [
       "subject\n",
       "sub-01     94.154205\n",
       "sub-02     86.994829\n",
       "sub-03     86.258474\n",
       "sub-04     99.729127\n",
       "sub-05    100.915453\n",
       "dtype: float64"
      ]
     },
     "execution_count": 35,
     "metadata": {},
     "output_type": "execute_result"
    }
   ],
   "source": [
    "df.mean(axis=1).head()"
   ]
  },
  {
   "cell_type": "code",
   "execution_count": 22,
   "metadata": {},
   "outputs": [
    {
     "data": {
      "text/html": [
       "<div>\n",
       "<style scoped>\n",
       "    .dataframe tbody tr th:only-of-type {\n",
       "        vertical-align: middle;\n",
       "    }\n",
       "\n",
       "    .dataframe tbody tr th {\n",
       "        vertical-align: top;\n",
       "    }\n",
       "\n",
       "    .dataframe thead th {\n",
       "        text-align: right;\n",
       "    }\n",
       "</style>\n",
       "<table border=\"1\" class=\"dataframe\">\n",
       "  <thead>\n",
       "    <tr style=\"text-align: right;\">\n",
       "      <th></th>\n",
       "      <th>age</th>\n",
       "      <th>height</th>\n",
       "      <th>weight</th>\n",
       "    </tr>\n",
       "  </thead>\n",
       "  <tbody>\n",
       "    <tr>\n",
       "      <th>count</th>\n",
       "      <td>20.000000</td>\n",
       "      <td>20.000000</td>\n",
       "      <td>20.000000</td>\n",
       "    </tr>\n",
       "    <tr>\n",
       "      <th>mean</th>\n",
       "      <td>45.680612</td>\n",
       "      <td>65.630476</td>\n",
       "      <td>176.489130</td>\n",
       "    </tr>\n",
       "    <tr>\n",
       "      <th>std</th>\n",
       "      <td>13.466405</td>\n",
       "      <td>4.872738</td>\n",
       "      <td>20.006082</td>\n",
       "    </tr>\n",
       "    <tr>\n",
       "      <th>min</th>\n",
       "      <td>22.705900</td>\n",
       "      <td>55.643615</td>\n",
       "      <td>142.222583</td>\n",
       "    </tr>\n",
       "    <tr>\n",
       "      <th>25%</th>\n",
       "      <td>34.928344</td>\n",
       "      <td>62.748147</td>\n",
       "      <td>166.648853</td>\n",
       "    </tr>\n",
       "    <tr>\n",
       "      <th>50%</th>\n",
       "      <td>46.219516</td>\n",
       "      <td>66.438489</td>\n",
       "      <td>176.499587</td>\n",
       "    </tr>\n",
       "    <tr>\n",
       "      <th>75%</th>\n",
       "      <td>58.354779</td>\n",
       "      <td>68.553542</td>\n",
       "      <td>183.749243</td>\n",
       "    </tr>\n",
       "    <tr>\n",
       "      <th>max</th>\n",
       "      <td>64.020537</td>\n",
       "      <td>76.184899</td>\n",
       "      <td>221.132238</td>\n",
       "    </tr>\n",
       "  </tbody>\n",
       "</table>\n",
       "</div>"
      ],
      "text/plain": [
       "             age     height      weight\n",
       "count  20.000000  20.000000   20.000000\n",
       "mean   45.680612  65.630476  176.489130\n",
       "std    13.466405   4.872738   20.006082\n",
       "min    22.705900  55.643615  142.222583\n",
       "25%    34.928344  62.748147  166.648853\n",
       "50%    46.219516  66.438489  176.499587\n",
       "75%    58.354779  68.553542  183.749243\n",
       "max    64.020537  76.184899  221.132238"
      ]
     },
     "execution_count": 22,
     "metadata": {},
     "output_type": "execute_result"
    }
   ],
   "source": [
    "df.describe()"
   ]
  }
 ],
 "metadata": {
  "kernelspec": {
   "display_name": "Python [conda env:python3]",
   "language": "python",
   "name": "conda-env-python3-py"
  },
  "language_info": {
   "codemirror_mode": {
    "name": "ipython",
    "version": 3
   },
   "file_extension": ".py",
   "mimetype": "text/x-python",
   "name": "python",
   "nbconvert_exporter": "python",
   "pygments_lexer": "ipython3",
   "version": "3.6.4"
  }
 },
 "nbformat": 4,
 "nbformat_minor": 2
}
